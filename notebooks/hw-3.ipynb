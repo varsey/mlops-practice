{
 "cells": [
  {
   "cell_type": "code",
   "execution_count": 1,
   "id": "8ea8bb6d",
   "metadata": {},
   "outputs": [
    {
     "name": "stdout",
     "output_type": "stream",
     "text": [
      "Defaulting to user installation because normal site-packages is not writeable\n",
      "Requirement already satisfied: findspark in ./.local/lib/python3.8/site-packages (2.0.1)\n"
     ]
    }
   ],
   "source": [
    "! pip install findspark"
   ]
  },
  {
   "cell_type": "code",
   "execution_count": 2,
   "id": "f3fa08c3",
   "metadata": {},
   "outputs": [
    {
     "data": {
      "text/plain": [
       "'/usr/lib/spark'"
      ]
     },
     "execution_count": 2,
     "metadata": {},
     "output_type": "execute_result"
    }
   ],
   "source": [
    "import findspark\n",
    "findspark.init()\n",
    "findspark.find()"
   ]
  },
  {
   "cell_type": "code",
   "execution_count": 3,
   "id": "3cf349d8",
   "metadata": {},
   "outputs": [],
   "source": [
    "from pyspark.sql import SparkSession"
   ]
  },
  {
   "cell_type": "code",
   "execution_count": 10,
   "id": "e56fc258",
   "metadata": {},
   "outputs": [],
   "source": [
    "from pyspark.sql import SQLContext\n",
    "\n",
    "spark.conf.set('spark.sql.repl.eagerEval.enabled', True) "
   ]
  },
  {
   "cell_type": "code",
   "execution_count": 5,
   "id": "261b7ace",
   "metadata": {},
   "outputs": [
    {
     "name": "stdout",
     "output_type": "stream",
     "text": [
      "Found 42 items\n",
      "drwxr-xr-x   - ubuntu hadoop          0 2024-02-23 08:37 .sparkStaging\n",
      "-rw-r--r--   1 ubuntu hadoop 2807409271 2024-02-23 05:24 2019-08-22.txt\n",
      "-rw-r--r--   1 ubuntu hadoop 2854479008 2024-02-23 05:26 2019-09-21.txt\n",
      "-rw-r--r--   1 ubuntu hadoop 2895460543 2024-02-23 05:25 2019-10-21.txt\n",
      "-rw-r--r--   1 ubuntu hadoop 2939120942 2024-02-23 05:25 2019-11-20.txt\n",
      "-rw-r--r--   1 ubuntu hadoop 2995462277 2024-02-23 05:29 2019-12-20.txt\n",
      "-rw-r--r--   1 ubuntu hadoop 2994906767 2024-02-23 05:29 2020-01-19.txt\n",
      "-rw-r--r--   1 ubuntu hadoop 2995431240 2024-02-23 05:24 2020-02-18.txt\n",
      "-rw-r--r--   1 ubuntu hadoop 2995176166 2024-02-23 05:24 2020-03-19.txt\n",
      "-rw-r--r--   1 ubuntu hadoop 2996034632 2024-02-23 05:26 2020-04-18.txt\n",
      "-rw-r--r--   1 ubuntu hadoop 2995666965 2024-02-23 05:25 2020-05-18.txt\n",
      "-rw-r--r--   1 ubuntu hadoop 2994699401 2024-02-23 05:26 2020-06-17.txt\n",
      "-rw-r--r--   1 ubuntu hadoop 2995810010 2024-02-23 05:27 2020-07-17.txt\n",
      "-rw-r--r--   1 ubuntu hadoop 2995995152 2024-02-23 05:26 2020-08-16.txt\n",
      "-rw-r--r--   1 ubuntu hadoop 2995778382 2024-02-23 05:26 2020-09-15.txt\n",
      "-rw-r--r--   1 ubuntu hadoop 2995868596 2024-02-23 05:27 2020-10-15.txt\n",
      "-rw-r--r--   1 ubuntu hadoop 2995467533 2024-02-23 05:23 2020-11-14.txt\n",
      "-rw-r--r--   1 ubuntu hadoop 2994761624 2024-02-23 05:26 2020-12-14.txt\n",
      "-rw-r--r--   1 ubuntu hadoop 2995390576 2024-02-23 05:24 2021-01-13.txt\n",
      "-rw-r--r--   1 ubuntu hadoop 2995780517 2024-02-23 05:26 2021-02-12.txt\n",
      "-rw-r--r--   1 ubuntu hadoop 2995191659 2024-02-23 05:24 2021-03-14.txt\n",
      "-rw-r--r--   1 ubuntu hadoop 2995446495 2024-02-23 05:23 2021-04-13.txt\n",
      "-rw-r--r--   1 ubuntu hadoop 3029170975 2024-02-23 05:24 2021-05-13.txt\n",
      "-rw-r--r--   1 ubuntu hadoop 3042691991 2024-02-23 05:26 2021-06-12.txt\n",
      "-rw-r--r--   1 ubuntu hadoop 3041980335 2024-02-23 05:26 2021-07-12.txt\n",
      "-rw-r--r--   1 ubuntu hadoop 3042662187 2024-02-23 05:29 2021-08-11.txt\n",
      "-rw-r--r--   1 ubuntu hadoop 3042455173 2024-02-23 05:24 2021-09-10.txt\n",
      "-rw-r--r--   1 ubuntu hadoop 3042424238 2024-02-23 05:28 2021-10-10.txt\n",
      "-rw-r--r--   1 ubuntu hadoop 3042358698 2024-02-23 05:28 2021-11-09.txt\n",
      "-rw-r--r--   1 ubuntu hadoop 3042923985 2024-02-23 05:28 2021-12-09.txt\n",
      "-rw-r--r--   1 ubuntu hadoop 3042868087 2024-02-23 05:26 2022-01-08.txt\n",
      "-rw-r--r--   1 ubuntu hadoop 3043148790 2024-02-23 05:28 2022-02-07.txt\n",
      "-rw-r--r--   1 ubuntu hadoop 3042312191 2024-02-23 05:27 2022-03-09.txt\n",
      "-rw-r--r--   1 ubuntu hadoop 3041973966 2024-02-23 05:24 2022-04-08.txt\n",
      "-rw-r--r--   1 ubuntu hadoop 3073760161 2024-02-23 05:26 2022-05-08.txt\n",
      "-rw-r--r--   1 ubuntu hadoop 3089378246 2024-02-23 05:28 2022-06-07.txt\n",
      "-rw-r--r--   1 ubuntu hadoop 3089589719 2024-02-23 05:23 2022-07-07.txt\n",
      "-rw-r--r--   1 ubuntu hadoop 3090000257 2024-02-23 05:28 2022-08-06.txt\n",
      "-rw-r--r--   1 ubuntu hadoop 3089390874 2024-02-23 05:28 2022-09-05.txt\n",
      "-rw-r--r--   1 ubuntu hadoop 3109468067 2024-02-23 05:28 2022-10-05.txt\n",
      "-rw-r--r--   1 ubuntu hadoop 3136657969 2024-02-23 05:29 2022-11-04.txt\n",
      "-rw-r--r--   1 dr.who hadoop     145611 2024-02-23 06:54 abalone_train.csv\n"
     ]
    }
   ],
   "source": [
    "!hdfs dfs -ls"
   ]
  },
  {
   "cell_type": "code",
   "execution_count": 6,
   "id": "9b34481c",
   "metadata": {},
   "outputs": [
    {
     "name": "stdout",
     "output_type": "stream",
     "text": [
      "Found 3 items\r\n",
      "drwxrwxrwt   - hdfs   hadoop          0 2024-02-23 05:06 /tmp/hadoop-yarn\r\n",
      "drwxr-xr-x   - ubuntu hadoop          0 2024-02-23 07:48 /tmp/month_stat1\r\n",
      "drwxr-xr-x   - ubuntu hadoop          0 2024-02-23 06:48 /tmp/month_stat2\r\n"
     ]
    }
   ],
   "source": [
    "! hdfs dfs -ls /tmp"
   ]
  },
  {
   "cell_type": "code",
   "execution_count": 7,
   "id": "9d461cab",
   "metadata": {},
   "outputs": [],
   "source": [
    "# !hdfs dfs -put abalone_train.csv"
   ]
  },
  {
   "cell_type": "code",
   "execution_count": 8,
   "id": "5904d87e",
   "metadata": {},
   "outputs": [],
   "source": [
    "#!ls .aws"
   ]
  },
  {
   "cell_type": "code",
   "execution_count": 9,
   "id": "2ce6ac41",
   "metadata": {},
   "outputs": [],
   "source": [
    "spark = (\n",
    "    SparkSession\n",
    "        .builder\n",
    "        .appName(\"OTUS\")\n",
    "        .config(\"spark.dynamicAllocation.enabled\", \"true\")\n",
    "        .config(\"spark.executor.memory\", \"10g\")\n",
    "        .config(\"spark.driver.memory\", \"4g\")\n",
    "        .config(\"spark.executor.cores\", \"4\")\n",
    "        .config(\"spark.executor.instances\", \"3\")\n",
    "        .getOrCreate()\n",
    ")"
   ]
  },
  {
   "cell_type": "code",
   "execution_count": null,
   "id": "730cb750",
   "metadata": {},
   "outputs": [],
   "source": []
  },
  {
   "cell_type": "code",
   "execution_count": 12,
   "id": "8ba4766b",
   "metadata": {},
   "outputs": [],
   "source": [
    "sql = SQLContext(spark)"
   ]
  },
  {
   "cell_type": "code",
   "execution_count": 13,
   "id": "f57b5d23",
   "metadata": {},
   "outputs": [
    {
     "data": {
      "text/plain": [
       "<pyspark.sql.context.SQLContext at 0x7feb09920f10>"
      ]
     },
     "execution_count": 13,
     "metadata": {},
     "output_type": "execute_result"
    }
   ],
   "source": [
    "sql"
   ]
  },
  {
   "cell_type": "code",
   "execution_count": 14,
   "id": "cf189086",
   "metadata": {},
   "outputs": [],
   "source": [
    "df = sql.read.parquet(\"s3a://yc-mdb-examples/dataproc/example01/set01\")"
   ]
  },
  {
   "cell_type": "code",
   "execution_count": 16,
   "id": "b46f0a18",
   "metadata": {},
   "outputs": [],
   "source": [
    "defaultFS = spark._jsc.hadoopConfiguration().get(\"fs.defaultFS\")\n",
    "month_stat = df.groupBy(\"Month\").count()\n",
    "month_stat.repartition(1).write.format(\"csv\").save(defaultFS+\"/tmp/month_stat1\")"
   ]
  },
  {
   "cell_type": "code",
   "execution_count": null,
   "id": "776d205e",
   "metadata": {},
   "outputs": [],
   "source": []
  },
  {
   "cell_type": "code",
   "execution_count": null,
   "id": "9c8b87e9",
   "metadata": {},
   "outputs": [],
   "source": []
  },
  {
   "cell_type": "code",
   "execution_count": 18,
   "id": "ad7505ac",
   "metadata": {},
   "outputs": [],
   "source": [
    "data = (spark.read.format('csv')\n",
    "        .options(header='true', inferSchema='true')\n",
    "        .load('abalone_train.csv'))"
   ]
  },
  {
   "cell_type": "code",
   "execution_count": 19,
   "id": "29577b48",
   "metadata": {},
   "outputs": [
    {
     "data": {
      "text/plain": [
       "DataFrame[0.435: double, 0.335: double, 0.11: double, 0.334: double, 0.1355: double, 0.0775: double, 0.0965: double, 7: int]"
      ]
     },
     "execution_count": 19,
     "metadata": {},
     "output_type": "execute_result"
    }
   ],
   "source": [
    "data"
   ]
  },
  {
   "cell_type": "code",
   "execution_count": null,
   "id": "5ee09bf3",
   "metadata": {},
   "outputs": [],
   "source": [
    "data.show()"
   ]
  },
  {
   "cell_type": "code",
   "execution_count": 21,
   "id": "f0074996",
   "metadata": {},
   "outputs": [],
   "source": []
  },
  {
   "cell_type": "code",
   "execution_count": 11,
   "id": "08ea3096",
   "metadata": {},
   "outputs": [],
   "source": [
    "from pyspark.sql.types import *\n",
    "\n",
    "schema = StructType([\n",
    "    StructField(\"transaction_id\", IntegerType(), True),\n",
    "    StructField(\"tx_datetime\", StringType(), True),\n",
    "    StructField(\"customer_id\", IntegerType(), True),\n",
    "    StructField(\"terminal_id\", IntegerType(), True),\n",
    "    StructField(\"tx_amount\", DoubleType(), True),\n",
    "    StructField(\"tx_time_seconds\", IntegerType(), True),\n",
    "    StructField(\"tx_time_days\", IntegerType(), True),\n",
    "    StructField(\"tx_fraud\", IntegerType(), True),\n",
    "    StructField(\"tx_fraud_scenario\", IntegerType(), True)\n",
    "])"
   ]
  },
  {
   "cell_type": "code",
   "execution_count": 27,
   "id": "8673f6af",
   "metadata": {},
   "outputs": [],
   "source": [
    "data = (\n",
    "    spark.read.format('csv')\n",
    "    .options(header='true', inferSchema='true', sep=','\n",
    "             # , nullValue='?'\n",
    "            )\n",
    "    .load(['2019-08-22.txt', '2022-11-04.txt', '2022-10-05.txt'], schema=schema)\n",
    ")"
   ]
  },
  {
   "cell_type": "code",
   "execution_count": 28,
   "id": "61004575",
   "metadata": {},
   "outputs": [
    {
     "data": {
      "text/html": [
       "<table border='1'>\n",
       "<tr><th>transaction_id</th><th>tx_datetime</th><th>customer_id</th><th>terminal_id</th><th>tx_amount</th><th>tx_time_seconds</th><th>tx_time_days</th><th>tx_fraud</th><th>tx_fraud_scenario</th></tr>\n",
       "<tr><td>0</td><td>2019-08-22 06:51:03</td><td>0</td><td>711</td><td>70.91</td><td>24663</td><td>0</td><td>0</td><td>0</td></tr>\n",
       "<tr><td>1</td><td>2019-08-22 05:10:37</td><td>0</td><td>0</td><td>90.55</td><td>18637</td><td>0</td><td>0</td><td>0</td></tr>\n",
       "<tr><td>2</td><td>2019-08-22 19:05:33</td><td>0</td><td>753</td><td>35.38</td><td>68733</td><td>0</td><td>0</td><td>0</td></tr>\n",
       "<tr><td>3</td><td>2019-08-22 07:21:33</td><td>0</td><td>0</td><td>80.41</td><td>26493</td><td>0</td><td>0</td><td>0</td></tr>\n",
       "<tr><td>4</td><td>2019-08-22 09:06:17</td><td>1</td><td>981</td><td>102.83</td><td>32777</td><td>0</td><td>0</td><td>0</td></tr>\n",
       "<tr><td>5</td><td>2019-08-22 18:41:25</td><td>3</td><td>205</td><td>34.2</td><td>67285</td><td>0</td><td>0</td><td>0</td></tr>\n",
       "<tr><td>6</td><td>2019-08-22 03:12:21</td><td>3</td><td>0</td><td>47.2</td><td>11541</td><td>0</td><td>0</td><td>0</td></tr>\n",
       "<tr><td>7</td><td>2019-08-22 22:36:40</td><td>6</td><td>809</td><td>139.39</td><td>81400</td><td>0</td><td>0</td><td>0</td></tr>\n",
       "<tr><td>8</td><td>2019-08-22 17:23:29</td><td>7</td><td>184</td><td>87.24</td><td>62609</td><td>0</td><td>0</td><td>0</td></tr>\n",
       "<tr><td>9</td><td>2019-08-22 21:09:37</td><td>8</td><td>931</td><td>61.7</td><td>76177</td><td>0</td><td>0</td><td>0</td></tr>\n",
       "<tr><td>10</td><td>2019-08-22 11:32:42</td><td>10</td><td>663</td><td>40.71</td><td>41562</td><td>0</td><td>1</td><td>2</td></tr>\n",
       "<tr><td>11</td><td>2019-08-22 03:09:26</td><td>10</td><td>770</td><td>63.91</td><td>11366</td><td>0</td><td>0</td><td>0</td></tr>\n",
       "<tr><td>12</td><td>2019-08-22 15:47:54</td><td>10</td><td>0</td><td>58.89</td><td>56874</td><td>0</td><td>0</td><td>0</td></tr>\n",
       "<tr><td>13</td><td>2019-08-22 21:59:20</td><td>10</td><td>649</td><td>89.24</td><td>79160</td><td>0</td><td>0</td><td>0</td></tr>\n",
       "<tr><td>14</td><td>2019-08-22 20:55:13</td><td>11</td><td>380</td><td>9.89</td><td>75313</td><td>0</td><td>0</td><td>0</td></tr>\n",
       "<tr><td>15</td><td>2019-08-22 16:39:03</td><td>11</td><td>337</td><td>83.36</td><td>59943</td><td>0</td><td>0</td><td>0</td></tr>\n",
       "<tr><td>16</td><td>2019-08-22 23:15:07</td><td>11</td><td>973</td><td>35.12</td><td>83707</td><td>0</td><td>0</td><td>0</td></tr>\n",
       "<tr><td>17</td><td>2019-08-22 07:39:45</td><td>12</td><td>9</td><td>74.0</td><td>27585</td><td>0</td><td>0</td><td>0</td></tr>\n",
       "<tr><td>18</td><td>2019-08-22 05:35:39</td><td>12</td><td>745</td><td>108.63</td><td>20139</td><td>0</td><td>0</td><td>0</td></tr>\n",
       "<tr><td>19</td><td>2019-08-22 10:29:16</td><td>12</td><td>9</td><td>84.45</td><td>37756</td><td>0</td><td>0</td><td>0</td></tr>\n",
       "</table>\n",
       "only showing top 20 rows\n"
      ],
      "text/plain": [
       "+--------------+-------------------+-----------+-----------+---------+---------------+------------+--------+-----------------+\n",
       "|transaction_id|        tx_datetime|customer_id|terminal_id|tx_amount|tx_time_seconds|tx_time_days|tx_fraud|tx_fraud_scenario|\n",
       "+--------------+-------------------+-----------+-----------+---------+---------------+------------+--------+-----------------+\n",
       "|             0|2019-08-22 06:51:03|          0|        711|    70.91|          24663|           0|       0|                0|\n",
       "|             1|2019-08-22 05:10:37|          0|          0|    90.55|          18637|           0|       0|                0|\n",
       "|             2|2019-08-22 19:05:33|          0|        753|    35.38|          68733|           0|       0|                0|\n",
       "|             3|2019-08-22 07:21:33|          0|          0|    80.41|          26493|           0|       0|                0|\n",
       "|             4|2019-08-22 09:06:17|          1|        981|   102.83|          32777|           0|       0|                0|\n",
       "|             5|2019-08-22 18:41:25|          3|        205|     34.2|          67285|           0|       0|                0|\n",
       "|             6|2019-08-22 03:12:21|          3|          0|     47.2|          11541|           0|       0|                0|\n",
       "|             7|2019-08-22 22:36:40|          6|        809|   139.39|          81400|           0|       0|                0|\n",
       "|             8|2019-08-22 17:23:29|          7|        184|    87.24|          62609|           0|       0|                0|\n",
       "|             9|2019-08-22 21:09:37|          8|        931|     61.7|          76177|           0|       0|                0|\n",
       "|            10|2019-08-22 11:32:42|         10|        663|    40.71|          41562|           0|       1|                2|\n",
       "|            11|2019-08-22 03:09:26|         10|        770|    63.91|          11366|           0|       0|                0|\n",
       "|            12|2019-08-22 15:47:54|         10|          0|    58.89|          56874|           0|       0|                0|\n",
       "|            13|2019-08-22 21:59:20|         10|        649|    89.24|          79160|           0|       0|                0|\n",
       "|            14|2019-08-22 20:55:13|         11|        380|     9.89|          75313|           0|       0|                0|\n",
       "|            15|2019-08-22 16:39:03|         11|        337|    83.36|          59943|           0|       0|                0|\n",
       "|            16|2019-08-22 23:15:07|         11|        973|    35.12|          83707|           0|       0|                0|\n",
       "|            17|2019-08-22 07:39:45|         12|          9|     74.0|          27585|           0|       0|                0|\n",
       "|            18|2019-08-22 05:35:39|         12|        745|   108.63|          20139|           0|       0|                0|\n",
       "|            19|2019-08-22 10:29:16|         12|          9|    84.45|          37756|           0|       0|                0|\n",
       "+--------------+-------------------+-----------+-----------+---------+---------------+------------+--------+-----------------+\n",
       "only showing top 20 rows"
      ]
     },
     "execution_count": 28,
     "metadata": {},
     "output_type": "execute_result"
    }
   ],
   "source": [
    "data"
   ]
  },
  {
   "cell_type": "code",
   "execution_count": 23,
   "id": "11e1f493",
   "metadata": {},
   "outputs": [
    {
     "name": "stdout",
     "output_type": "stream",
     "text": [
      "+--------------+-------------------+-----------+-----------+---------+---------------+------------+--------+-----------------+\n",
      "|transaction_id|        tx_datetime|customer_id|terminal_id|tx_amount|tx_time_seconds|tx_time_days|tx_fraud|tx_fraud_scenario|\n",
      "+--------------+-------------------+-----------+-----------+---------+---------------+------------+--------+-----------------+\n",
      "|             0|2019-08-22 06:51:03|          0|        711|    70.91|          24663|           0|       0|                0|\n",
      "|             1|2019-08-22 05:10:37|          0|          0|    90.55|          18637|           0|       0|                0|\n",
      "|             2|2019-08-22 19:05:33|          0|        753|    35.38|          68733|           0|       0|                0|\n",
      "|             3|2019-08-22 07:21:33|          0|          0|    80.41|          26493|           0|       0|                0|\n",
      "|             4|2019-08-22 09:06:17|          1|        981|   102.83|          32777|           0|       0|                0|\n",
      "+--------------+-------------------+-----------+-----------+---------+---------------+------------+--------+-----------------+\n"
     ]
    }
   ],
   "source": [
    "data.show(5)"
   ]
  },
  {
   "cell_type": "code",
   "execution_count": 24,
   "id": "9606208d",
   "metadata": {},
   "outputs": [],
   "source": [
    "from pyspark.sql.functions import count, when, col"
   ]
  },
  {
   "cell_type": "code",
   "execution_count": 29,
   "id": "a26501db",
   "metadata": {},
   "outputs": [],
   "source": [
    "missing_data_counts = data.select([count(when(col(c).isNull(), c)).alias(c) for c in data.columns])"
   ]
  },
  {
   "cell_type": "code",
   "execution_count": 30,
   "id": "ba95877b",
   "metadata": {},
   "outputs": [
    {
     "data": {
      "text/html": [
       "<table border='1'>\n",
       "<tr><th>transaction_id</th><th>tx_datetime</th><th>customer_id</th><th>terminal_id</th><th>tx_amount</th><th>tx_time_seconds</th><th>tx_time_days</th><th>tx_fraud</th><th>tx_fraud_scenario</th></tr>\n",
       "<tr><td>0</td><td>0</td><td>0</td><td>2857</td><td>0</td><td>0</td><td>0</td><td>0</td><td>0</td></tr>\n",
       "</table>\n"
      ],
      "text/plain": [
       "+--------------+-----------+-----------+-----------+---------+---------------+------------+--------+-----------------+\n",
       "|transaction_id|tx_datetime|customer_id|terminal_id|tx_amount|tx_time_seconds|tx_time_days|tx_fraud|tx_fraud_scenario|\n",
       "+--------------+-----------+-----------+-----------+---------+---------------+------------+--------+-----------------+\n",
       "|             0|          0|          0|       2857|        0|              0|           0|       0|                0|\n",
       "+--------------+-----------+-----------+-----------+---------+---------------+------------+--------+-----------------+"
      ]
     },
     "execution_count": 30,
     "metadata": {},
     "output_type": "execute_result"
    }
   ],
   "source": [
    "missing_data_counts"
   ]
  },
  {
   "cell_type": "code",
   "execution_count": null,
   "id": "c0840f02",
   "metadata": {},
   "outputs": [],
   "source": []
  },
  {
   "cell_type": "code",
   "execution_count": 35,
   "id": "cdc8323e",
   "metadata": {},
   "outputs": [],
   "source": [
    "validity_check = data.filter(\"transaction_id >= 0 and tx_datetime not like '____-__-__ __:__:__'\")"
   ]
  },
  {
   "cell_type": "code",
   "execution_count": 36,
   "id": "69aa4cc2",
   "metadata": {},
   "outputs": [
    {
     "data": {
      "text/html": [
       "<table border='1'>\n",
       "<tr><th>transaction_id</th><th>tx_datetime</th><th>customer_id</th><th>terminal_id</th><th>tx_amount</th><th>tx_time_seconds</th><th>tx_time_days</th><th>tx_fraud</th><th>tx_fraud_scenario</th></tr>\n",
       "</table>\n"
      ],
      "text/plain": [
       "+--------------+-----------+-----------+-----------+---------+---------------+------------+--------+-----------------+\n",
       "|transaction_id|tx_datetime|customer_id|terminal_id|tx_amount|tx_time_seconds|tx_time_days|tx_fraud|tx_fraud_scenario|\n",
       "+--------------+-----------+-----------+-----------+---------+---------------+------------+--------+-----------------+\n",
       "+--------------+-----------+-----------+-----------+---------+---------------+------------+--------+-----------------+"
      ]
     },
     "execution_count": 36,
     "metadata": {},
     "output_type": "execute_result"
    }
   ],
   "source": [
    "validity_check"
   ]
  },
  {
   "cell_type": "code",
   "execution_count": null,
   "id": "59e5dc23",
   "metadata": {},
   "outputs": [],
   "source": []
  },
  {
   "cell_type": "code",
   "execution_count": 39,
   "id": "6bdb9a38",
   "metadata": {},
   "outputs": [],
   "source": [
    "num_rows_initial = data.count()\n",
    "num_cols_initial = len(data.columns)"
   ]
  },
  {
   "cell_type": "code",
   "execution_count": 40,
   "id": "ec68730e",
   "metadata": {},
   "outputs": [
    {
     "data": {
      "text/plain": [
       "(140984588, 9)"
      ]
     },
     "execution_count": 40,
     "metadata": {},
     "output_type": "execute_result"
    }
   ],
   "source": [
    "num_rows_initial, num_cols_initial"
   ]
  },
  {
   "cell_type": "code",
   "execution_count": null,
   "id": "75488598",
   "metadata": {},
   "outputs": [],
   "source": []
  },
  {
   "cell_type": "code",
   "execution_count": null,
   "id": "1fde2b14",
   "metadata": {},
   "outputs": [],
   "source": [
    "num_rows_validity_check = validity_check.count()\n",
    "num_cols_validity_check = len(validity_check.columns)\n",
    "\n",
    "num_rows_validity_check, num_cols_validity_check"
   ]
  },
  {
   "cell_type": "code",
   "execution_count": null,
   "id": "5cd2cc71",
   "metadata": {},
   "outputs": [],
   "source": []
  },
  {
   "cell_type": "code",
   "execution_count": 43,
   "id": "ce75953d",
   "metadata": {},
   "outputs": [],
   "source": [
    "accuracy_check = data.agg({\"tx_amount\": \"sum\"}).alias('total_tx_amount')"
   ]
  },
  {
   "cell_type": "code",
   "execution_count": 44,
   "id": "d3118d70",
   "metadata": {},
   "outputs": [
    {
     "data": {
      "text/html": [
       "<table border='1'>\n",
       "<tr><th>sum(tx_amount)</th></tr>\n",
       "<tr><td>7.642769045469997E9</td></tr>\n",
       "</table>\n"
      ],
      "text/plain": [
       "+-------------------+\n",
       "|     sum(tx_amount)|\n",
       "+-------------------+\n",
       "|7.642769045469997E9|\n",
       "+-------------------+"
      ]
     },
     "execution_count": 44,
     "metadata": {},
     "output_type": "execute_result"
    }
   ],
   "source": [
    "accuracy_check"
   ]
  },
  {
   "cell_type": "code",
   "execution_count": 45,
   "id": "a06f774b",
   "metadata": {},
   "outputs": [
    {
     "data": {
      "text/plain": [
       "0.018446794240398245"
      ]
     },
     "execution_count": 45,
     "metadata": {},
     "output_type": "execute_result"
    }
   ],
   "source": [
    "140984588/7642769045"
   ]
  },
  {
   "cell_type": "code",
   "execution_count": null,
   "id": "ba373881",
   "metadata": {},
   "outputs": [],
   "source": []
  },
  {
   "cell_type": "code",
   "execution_count": 36,
   "id": "592df936",
   "metadata": {},
   "outputs": [],
   "source": [
    "spark.stop()"
   ]
  },
  {
   "cell_type": "code",
   "execution_count": null,
   "id": "d6217dda",
   "metadata": {},
   "outputs": [],
   "source": []
  }
 ],
 "metadata": {
  "kernelspec": {
   "display_name": "Python 3",
   "language": "python",
   "name": "python3"
  },
  "language_info": {
   "codemirror_mode": {
    "name": "ipython",
    "version": 3
   },
   "file_extension": ".py",
   "mimetype": "text/x-python",
   "name": "python",
   "nbconvert_exporter": "python",
   "pygments_lexer": "ipython3",
   "version": "3.8.10"
  }
 },
 "nbformat": 4,
 "nbformat_minor": 5
}
